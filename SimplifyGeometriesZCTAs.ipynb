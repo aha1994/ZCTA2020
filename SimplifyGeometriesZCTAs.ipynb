{
 "cells": [
  {
   "cell_type": "code",
   "execution_count": 1,
   "id": "b5d0290b-6aad-496d-86e9-0f9cf80b1f60",
   "metadata": {},
   "outputs": [],
   "source": [
    "import pandas as pd\n",
    "from urllib.request import urlopen\n",
    "import json\n",
    "import time\n",
    "import geopandas as gpd\n",
    "from shapely.geometry import shape"
   ]
  },
  {
   "cell_type": "code",
   "execution_count": 2,
   "id": "761e8e8c-041a-4528-b049-116d3ee56199",
   "metadata": {},
   "outputs": [],
   "source": [
    "state_abbreviations = {\n",
    "    'AL': 'Alabama',\n",
    "    'AK': 'Alaska',\n",
    "    'AZ': 'Arizona',\n",
    "    'AR': 'Arkansas',\n",
    "    'CA': 'California',\n",
    "    'CO': 'Colorado',\n",
    "    'CT': 'Connecticut',\n",
    "    'DE': 'Delaware',\n",
    "    'FL': 'Florida',\n",
    "    'GA': 'Georgia',\n",
    "    'HI': 'Hawaii',\n",
    "    'ID': 'Idaho',\n",
    "    'IL': 'Illinois',\n",
    "    'IN': 'Indiana',\n",
    "    'IA': 'Iowa',\n",
    "    'KS': 'Kansas',\n",
    "    'KY': 'Kentucky',\n",
    "    'LA': 'Louisiana',\n",
    "    'ME': 'Maine',\n",
    "    'MD': 'Maryland',\n",
    "    'MA': 'Massachusetts',\n",
    "    'MI': 'Michigan',\n",
    "    'MN': 'Minnesota',\n",
    "    'MS': 'Mississippi',\n",
    "    'MO': 'Missouri',\n",
    "    'MT': 'Montana',\n",
    "    'NE': 'Nebraska',\n",
    "    'NV': 'Nevada',\n",
    "    'NH': 'New Hampshire',\n",
    "    'NJ': 'New Jersey',\n",
    "    'NM': 'New Mexico',\n",
    "    'NY': 'New York',\n",
    "    'NC': 'North Carolina',\n",
    "    'ND': 'North Dakota',\n",
    "    'OH': 'Ohio',\n",
    "    'OK': 'Oklahoma',\n",
    "    'OR': 'Oregon',\n",
    "    'PA': 'Pennsylvania',\n",
    "    'RI': 'Rhode Island',\n",
    "    'SC': 'South Carolina',\n",
    "    'SD': 'South Dakota',\n",
    "    'TN': 'Tennessee',\n",
    "    'TX': 'Texas',\n",
    "    'UT': 'Utah',\n",
    "    'VT': 'Vermont',\n",
    "    'VA': 'Virginia',\n",
    "    'WA': 'Washington',\n",
    "    'WV': 'West Virginia',\n",
    "    'WI': 'Wisconsin',\n",
    "    'WY': 'Wyoming',\n",
    "    'DC': 'District of Columbia',\n",
    "    'PR': 'Puerto Rico',\n",
    "    'GU': 'Guam',\n",
    "    'VI': 'Virgin Islands'\n",
    "}"
   ]
  },
  {
   "cell_type": "code",
   "execution_count": null,
   "id": "acae9861-a16e-4c48-a795-6d3a6415d9a0",
   "metadata": {},
   "outputs": [],
   "source": [
    "def json_to_geojson(input_json_file, output_geojson_file, tolerance=0.0001):\n",
    "    # Step 1: Read the JSON file\n",
    "    url = input_json_file\n",
    "    with urlopen(url) as response:\n",
    "        state_zip_json = json.load(response)\n",
    "    \n",
    "    # Step 2: Convert JSON to GeoDataFrame\n",
    "    # Assuming JSON has features in GeoJSON-like structure\n",
    "    features = state_zip_json.get('features', [])\n",
    "    geometries = [shape(feature['geometry']) for feature in features]\n",
    "    properties = [feature.get('properties', {}) for feature in features]\n",
    "    \n",
    "    # Create a GeoDataFrame\n",
    "    gdf = gpd.GeoDataFrame(properties, geometry=geometries, crs='EPSG:4326')\n",
    "    \n",
    "    # Step 3: Simplify the geometries by specified tolerance\n",
    "    gdf['geometry'] = gdf['geometry'].simplify(tolerance)\n",
    "    \n",
    "    # Step 4: Save as GeoJSON\n",
    "    gdf.to_file(output_geojson_file, driver='GeoJSON')"
   ]
  },
  {
   "cell_type": "code",
   "execution_count": null,
   "id": "831483dc-d670-4220-bc77-061fee9103d9",
   "metadata": {},
   "outputs": [],
   "source": [
    "for name in state_abbreviations.values():\n",
    "    name_url = name.replace(' ', '%20')\n",
    "    print(f\"Working to simplify file for {name}!\")\n",
    "    input_file = f\"https://raw.githubusercontent.com/aha1994/zcta2020/main/2020%20Census%20Full%20Detail/{name_url}_ZCTAs_2020.json\"\n",
    "    output_file = f\"census2020/ZCTAs2020/{name}_ZCTAs_simplified_2020.json\"\n",
    "    json_to_geojson(input_file, output_file, tolerance=0.0005)\n",
    "\n",
    "print('Done! Your files are ready.')"
   ]
  },
  {
   "cell_type": "code",
   "execution_count": null,
   "id": "87397b6e-554e-43cc-b019-96c75951503a",
   "metadata": {},
   "outputs": [],
   "source": []
  },
  {
   "cell_type": "code",
   "execution_count": null,
   "id": "628b600c-cbdb-4315-a01a-2317db463831",
   "metadata": {},
   "outputs": [],
   "source": []
  },
  {
   "cell_type": "code",
   "execution_count": null,
   "id": "9ad89860-308a-4ac3-8a19-f6e0ce438b23",
   "metadata": {},
   "outputs": [],
   "source": []
  },
  {
   "cell_type": "code",
   "execution_count": null,
   "id": "ed6f1131-5de3-43dd-a9f0-cc2fb018a9da",
   "metadata": {},
   "outputs": [],
   "source": []
  }
 ],
 "metadata": {
  "kernelspec": {
   "display_name": "Python 3 (ipykernel)",
   "language": "python",
   "name": "python3"
  },
  "language_info": {
   "codemirror_mode": {
    "name": "ipython",
    "version": 3
   },
   "file_extension": ".py",
   "mimetype": "text/x-python",
   "name": "python",
   "nbconvert_exporter": "python",
   "pygments_lexer": "ipython3",
   "version": "3.11.0"
  }
 },
 "nbformat": 4,
 "nbformat_minor": 5
}
